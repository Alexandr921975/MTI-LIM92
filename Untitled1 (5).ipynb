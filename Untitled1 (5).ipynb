{
  "nbformat": 4,
  "nbformat_minor": 0,
  "metadata": {
    "colab": {
      "provenance": []
    },
    "kernelspec": {
      "name": "python3",
      "display_name": "Python 3"
    },
    "language_info": {
      "name": "python"
    }
  },
  "cells": [
    {
      "cell_type": "code",
      "source": [
        "x = int(input())\n",
        "if x % 2 == 0:\n",
        "  print(f'{x} - четное')\n",
        "else:\n",
        "  print(f'{x} - не четное')\n",
        "\n",
        "\n"
      ],
      "metadata": {
        "id": "pIpnlQfkfXCY",
        "colab": {
          "base_uri": "https://localhost:8080/"
        },
        "outputId": "280fae42-f584-41bf-b7af-02c8058a8726"
      },
      "execution_count": null,
      "outputs": [
        {
          "output_type": "stream",
          "name": "stdout",
          "text": [
            "190\n",
            "190 - четное\n"
          ]
        }
      ]
    },
    {
      "cell_type": "code",
      "source": [
        "x = int(input())\n",
        "if x % 2 == 0:\n",
        "  print(f'{x} - четное')\n",
        "else:\n",
        "  print(f'{x} - не четное')\n"
      ],
      "metadata": {
        "colab": {
          "base_uri": "https://localhost:8080/"
        },
        "id": "CKs5zUsOLulI",
        "outputId": "af3769c0-2841-4a6e-866d-57cfba334e9f"
      },
      "execution_count": 5,
      "outputs": [
        {
          "output_type": "stream",
          "name": "stdout",
          "text": [
            "113\n",
            "113 - не четное\n"
          ]
        }
      ]
    },
    {
      "cell_type": "code",
      "source": [
        "a = int(input())\n",
        "b = int(input())\n",
        "if a>b:\n",
        "  print('max = ', a)\n",
        "else:\n",
        "  print('max = ', b)"
      ],
      "metadata": {
        "colab": {
          "base_uri": "https://localhost:8080/"
        },
        "id": "w59WF-39wRpA",
        "outputId": "3fe81acd-b799-404b-ce34-f1043a2a7a6b"
      },
      "execution_count": 4,
      "outputs": [
        {
          "output_type": "stream",
          "name": "stdout",
          "text": [
            "3\n",
            "4\n",
            "max =  4\n"
          ]
        }
      ]
    },
    {
      "cell_type": "code",
      "source": [
        "x = int(input())\n",
        "y = int(input())\n",
        "if x + y % 2 == 0:\n",
        "  print(f'{x + y} - YES')\n",
        "else:\n",
        "  print(f'{x + y} - NO')"
      ],
      "metadata": {
        "colab": {
          "base_uri": "https://localhost:8080/"
        },
        "id": "P1FNxpe5QNm-",
        "outputId": "6433458c-6785-486e-ad24-94dcf8857b7f"
      },
      "execution_count": 6,
      "outputs": [
        {
          "output_type": "stream",
          "name": "stdout",
          "text": [
            "5\n",
            "5\n",
            "10 - NO\n"
          ]
        }
      ]
    }
  ]
}